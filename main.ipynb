{
 "cells": [
  {
   "cell_type": "markdown",
   "id": "542f2197",
   "metadata": {},
   "source": [
    "# Project Outline\n",
    "\n",
    "## 1. Team\n",
    "Add team member names and roles here."
   ]
  },
  {
   "cell_type": "markdown",
   "id": "f54c17e6",
   "metadata": {},
   "source": [
    "## 2. Data\n",
    "1. Link to dataset(s)\n",
    "2. Download the necessary files, describe the attributes in the notebook including classes/labels\n",
    "3. Initial standard analysis with `sample`, `head`, `info`, `describe` (and `unique` values where appropriate!)"
   ]
  },
  {
   "cell_type": "markdown",
   "id": "41dc69a3",
   "metadata": {},
   "source": [
    "## 3. Data Visualization\n",
    "1. 4 different types of plots (correlation, histograms, etc.) including discussion\n",
    "2. Data imbalance discussion with graphic"
   ]
  },
  {
   "cell_type": "markdown",
   "id": "401b45c6",
   "metadata": {},
   "source": [
    "## 4. Data Cleaning (if necessary, otherwise leave empty but justified)\n",
    "1. Incorrect values\n",
    "2. Missing values\n",
    "3. Justified feature reduction or type conversion\n",
    "4. Save the - if necessary - merged and integrated files from various sources into `korr.csv`"
   ]
  },
  {
   "cell_type": "markdown",
   "id": "98d91341",
   "metadata": {},
   "source": [
    "## 5. Data Preparation\n",
    "1. Different pipelines per algorithm (SVM, DT, RF, kNN, Logistic Regression) including splitting into train-validation sets with stratification"
   ]
  },
  {
   "cell_type": "markdown",
   "id": "aecfb597",
   "metadata": {},
   "source": [
    "## 6. Comparison of Classification Algorithms\n",
    "1. Hyperparameter optimization using GridSearch per algorithm with `cv=5` including time measurement (total time per algorithm must be < 15 min)\n",
    "2. Discussion of the optimized final models\n",
    "   1. Show decision surface – see [Data Science Crash Course - Chapter 7](https://data-science-crashkurs.de/chapters/kapitel_07.html#id2)\n",
    "   2. Performance comparison table using Accuracy, F1, Precision, Recall, MCC on validation data\n",
    "   3. If only 2 classes, then also include Confusion Matrix with discussion"
   ]
  }
 ],
 "metadata": {
  "kernelspec": {
   "display_name": "Python 3 (ipykernel)",
   "language": "python",
   "name": "python3"
  },
  "language_info": {
   "codemirror_mode": {
    "name": "ipython",
    "version": 3
   },
   "file_extension": ".py",
   "mimetype": "text/x-python",
   "name": "python",
   "nbconvert_exporter": "python",
   "pygments_lexer": "ipython3",
   "version": "3.12.8"
  }
 },
 "nbformat": 4,
 "nbformat_minor": 5
}
