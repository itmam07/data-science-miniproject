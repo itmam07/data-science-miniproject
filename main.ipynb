{
 "cells": [
  {
   "cell_type": "markdown",
   "id": "542f2197",
   "metadata": {},
   "source": [
    "# Project Outline\n",
    "\n",
    "## 1. Team\n",
    "- Itmam Alam\n",
    "- Akos Papp\n"
   ]
  },
  {
   "cell_type": "markdown",
   "id": "f54c17e6",
   "metadata": {},
   "source": [
    "## 2. Data\n",
    "1. Link to dataset(s)\n",
    "[https://archive.ics.uci.edu/dataset/697/predict+students+dropout+and+academic+success]()\n",
    "2. Download the necessary files, describe the attributes in the notebook including classes/labels"
   ]
  },
  {
   "cell_type": "markdown",
   "id": "8c519d6c",
   "metadata": {},
   "source": [
    "Features\n",
    "| Variable Name | Role | Type | Demographic | Description | Units | Missing Values |\n",
    "| --- | --- | --- | --- | --- | --- | --- |\n",
    "| Marital Status | Feature | Integer | Marital Status | 1 – single 2 – married 3 – widower 4 – divorced 5 – facto union 6 – legally separated |     | no  |\n",
    "| Application mode | Feature | Integer |     | 1 - 1st phase - general contingent 2 - Ordinance No. 612/93 5 - 1st phase - special contingent (Azores Island) 7 - Holders of other higher courses 10 - Ordinance No. 854-B/99 15 - International student (bachelor) 16 - 1st phase - special contingent (Madeira Island) 17 - 2nd phase - general contingent 18 - 3rd phase - general contingent 26 - Ordinance No. 533-A/99, item b2) (Different Plan) 27 - Ordinance No. 533-A/99, item b3 (Other Institution) 39 - Over 23 years old 42 - Transfer 43 - Change of course 44 - Technological specialization diploma holders 51 - Change of institution/course 53 - Short cycle diploma holders 57 - Change of institution/course (International) |     | no  |\n",
    "| Application order | Feature | Integer |     | Application order (between 0 - first choice; and 9 last choice) |     | no  |\n",
    "| Course | Feature | Integer |     | 33 - Biofuel Production Technologies 171 - Animation and Multimedia Design 8014 - Social Service (evening attendance) 9003 - Agronomy 9070 - Communication Design 9085 - Veterinary Nursing 9119 - Informatics Engineering 9130 - Equinculture 9147 - Management 9238 - Social Service 9254 - Tourism 9500 - Nursing 9556 - Oral Hygiene 9670 - Advertising and Marketing Management 9773 - Journalism and Communication 9853 - Basic Education 9991 - Management (evening attendance) |     | no  |\n",
    "| Daytime/evening attendance | Feature | Integer |     | 1 – daytime 0 - evening |     | no  |\n",
    "| Previous qualification | Feature | Integer | Education Level | 1 - Secondary education 2 - Higher education - bachelor's degree 3 - Higher education - degree 4 - Higher education - master's 5 - Higher education - doctorate 6 - Frequency of higher education 9 - 12th year of schooling - not completed 10 - 11th year of schooling - not completed 12 - Other - 11th year of schooling 14 - 10th year of schooling 15 - 10th year of schooling - not completed 19 - Basic education 3rd cycle (9th/10th/11th year) or equiv. 38 - Basic education 2nd cycle (6th/7th/8th year) or equiv. 39 - Technological specialization course 40 - Higher education - degree (1st cycle) 42 - Professional higher technical course 43 - Higher education - master (2nd cycle) |     | no  |\n",
    "| Previous qualification (grade) | Feature | Continuous |     | Grade of previous qualification (between 0 and 200) |     | no  |\n",
    "| Nacionality | Feature | Integer | Nationality | 1 - Portuguese; 2 - German; 6 - Spanish; 11 - Italian; 13 - Dutch; 14 - English; 17 - Lithuanian; 21 - Angolan; 22 - Cape Verdean; 24 - Guinean; 25 - Mozambican; 26 - Santomean; 32 - Turkish; 41 - Brazilian; 62 - Romanian; 100 - Moldova (Republic of); 101 - Mexican; 103 - Ukrainian; 105 - Russian; 108 - Cuban; 109 - Colombian |     | no  |\n",
    "| Mother's qualification | Feature | Integer | Education Level | 1 - Secondary Education - 12th Year of Schooling or Eq. 2 - Higher Education - Bachelor's Degree 3 - Higher Education - Degree 4 - Higher Education - Master's 5 - Higher Education - Doctorate 6 - Frequency of Higher Education 9 - 12th Year of Schooling - Not Completed 10 - 11th Year of Schooling - Not Completed 11 - 7th Year (Old) 12 - Other - 11th Year of Schooling 14 - 10th Year of Schooling 18 - General commerce course 19 - Basic Education 3rd Cycle (9th/10th/11th Year) or Equiv. 22 - Technical-professional course 26 - 7th year of schooling 27 - 2nd cycle of the general high school course 29 - 9th Year of Schooling - Not Completed 30 - 8th year of schooling 34 - Unknown 35 - Can't read or write 36 - Can read without having a 4th year of schooling 37 - Basic education 1st cycle (4th/5th year) or equiv. 38 - Basic Education 2nd Cycle (6th/7th/8th Year) or Equiv. 39 - Technological specialization course 40 - Higher education - degree (1st cycle) 41 - Specialized higher studies course 42 - Professional higher technical course 43 - Higher Education - Master (2nd cycle) 44 - Higher Education - Doctorate (3rd cycle) |     | no  |\n",
    "| Father's qualification | Feature | Integer | Education Level | 1 - Secondary Education - 12th Year of Schooling or Eq. 2 - Higher Education - Bachelor's Degree 3 - Higher Education - Degree 4 - Higher Education - Master's 5 - Higher Education - Doctorate 6 - Frequency of Higher Education 9 - 12th Year of Schooling - Not Completed 10 - 11th Year of Schooling - Not Completed 11 - 7th Year (Old) 12 - Other - 11th Year of Schooling 13 - 2nd year complementary high school course 14 - 10th Year of Schooling 18 - General commerce course 19 - Basic Education 3rd Cycle (9th/10th/11th Year) or Equiv. 20 - Complementary High School Course 22 - Technical-professional course 25 - Complementary High School Course - not concluded 26 - 7th year of schooling 27 - 2nd cycle of the general high school course 29 - 9th Year of Schooling - Not Completed 30 - 8th year of schooling 31 - General Course of Administration and Commerce 33 - Supplementary Accounting and Administration 34 - Unknown 35 - Can't read or write 36 - Can read without having a 4th year of schooling 37 - Basic education 1st cycle (4th/5th year) or equiv. 38 - Basic Education 2nd Cycle (6th/7th/8th Year) or Equiv. 39 - Technological specialization course 40 - Higher education - degree (1st cycle) 41 - Specialized higher studies course 42 - Professional higher technical course 43 - Higher Education - Master (2nd cycle) 44 - Higher Education - Doctorate (3rd cycle) |     | no  |\n",
    "| Mother's occupation | Feature | Integer | Occupation | 0 - Student 1 - Representatives of the Legislative Power and Executive Bodies, Directors, Directors and Executive Managers 2 - Specialists in Intellectual and Scientific Activities 3 - Intermediate Level Technicians and Professions 4 - Administrative staff 5 - Personal Services, Security and Safety Workers and Sellers 6 - Farmers and Skilled Workers in Agriculture, Fisheries and Forestry 7 - Skilled Workers in Industry, Construction and Craftsmen 8 - Installation and Machine Operators and Assembly Workers 9 - Unskilled Workers 10 - Armed Forces Professions 90 - Other Situation 99 - (blank) 122 - Health professionals 123 - teachers 125 - Specialists in information and communication technologies (ICT) 131 - Intermediate level science and engineering technicians and professions 132 - Technicians and professionals, of intermediate level of health 134 - Intermediate level technicians from legal, social, sports, cultural and similar services 141 - Office workers, secretaries in general and data processing operators 143 - Data, accounting, statistical, financial services and registry-related operators 144 - Other administrative support staff 151 - personal service workers 152 - sellers 153 - Personal care workers and the like 171 - Skilled construction workers and the like, except electricians 173 - Skilled workers in printing, precision instrument manufacturing, jewelers, artisans and the like 175 - Workers in food processing, woodworking, clothing and other industries and crafts 191 - cleaning workers 192 - Unskilled workers in agriculture, animal production, fisheries and forestry 193 - Unskilled workers in extractive industry, construction, manufacturing and transport 194 - Meal preparation assistants |     | no  |\n",
    "| Father's occupation | Feature | Integer | Occupation | 0 - Student 1 - Representatives of the Legislative Power and Executive Bodies, Directors, Directors and Executive Managers 2 - Specialists in Intellectual and Scientific Activities 3 - Intermediate Level Technicians and Professions 4 - Administrative staff 5 - Personal Services, Security and Safety Workers and Sellers 6 - Farmers and Skilled Workers in Agriculture, Fisheries and Forestry 7 - Skilled Workers in Industry, Construction and Craftsmen 8 - Installation and Machine Operators and Assembly Workers 9 - Unskilled Workers 10 - Armed Forces Professions 90 - Other Situation 99 - (blank) 101 - Armed Forces Officers 102 - Armed Forces Sergeants 103 - Other Armed Forces personnel 112 - Directors of administrative and commercial services 114 - Hotel, catering, trade and other services directors 121 - Specialists in the physical sciences, mathematics, engineering and related techniques 122 - Health professionals 123 - teachers 124 - Specialists in finance, accounting, administrative organization, public and commercial relations 131 - Intermediate level science and engineering technicians and professions 132 - Technicians and professionals, of intermediate level of health 134 - Intermediate level technicians from legal, social, sports, cultural and similar services 135 - Information and communication technology technicians 141 - Office workers, secretaries in general and data processing operators 143 - Data, accounting, statistical, financial services and registry-related operators 144 - Other administrative support staff 151 - personal service workers 152 - sellers 153 - Personal care workers and the like 154 - Protection and security services personnel 161 - Market-oriented farmers and skilled agricultural and animal production workers 163 - Farmers, livestock keepers, fishermen, hunters and gatherers, subsistence 171 - Skilled construction workers and the like, except electricians 172 - Skilled workers in metallurgy, metalworking and similar 174 - Skilled workers in electricity and electronics 175 - Workers in food processing, woodworking, clothing and other industries and crafts 181 - Fixed plant and machine operators 182 - assembly workers 183 - Vehicle drivers and mobile equipment operators 192 - Unskilled workers in agriculture, animal production, fisheries and forestry 193 - Unskilled workers in extractive industry, construction, manufacturing and transport 194 - Meal preparation assistants 195 - Street vendors (except food) and street service providers |     | no  |\n",
    "| Admission grade | Feature | Continuous |     | Admission grade (between 0 and 200) |     | no  |\n",
    "| Displaced | Feature | Integer |     | 1 – yes 0 – no |     | no  |\n",
    "| Educational special needs | Feature | Integer |     | 1 – yes 0 – no |     | no  |\n",
    "| Debtor | Feature | Integer |     | 1 – yes 0 – no |     | no  |\n",
    "| Tuition fees up to date | Feature | Integer |     | 1 – yes 0 – no |     | no  |\n",
    "| Gender | Feature | Integer | Gender | 1 – male 0 – female |     | no  |\n",
    "| Scholarship holder | Feature | Integer |     | 1 – yes 0 – no |     | no  |\n",
    "| Age at enrollment | Feature | Integer | Age | Age of studend at enrollment |     | no  |\n",
    "| International | Feature | Integer |     | 1 – yes 0 – no |     | no  |\n",
    "| Curricular units 1st sem (credited) | Feature | Integer |     | Number of curricular units credited in the 1st semester |     | no  |\n",
    "| Curricular units 1st sem (enrolled) | Feature | Integer |     | Number of curricular units enrolled in the 1st semester |     | no  |\n",
    "| Curricular units 1st sem (evaluations) | Feature | Integer |     | Number of evaluations to curricular units in the 1st semester |     | no  |\n",
    "| Curricular units 1st sem (approved) | Feature | Integer |     | Number of curricular units approved in the 1st semester |     | no  |\n",
    "| Curricular units 1st sem (grade) | Feature | Integer |     | Grade average in the 1st semester (between 0 and 20) |     | no  |\n",
    "| Curricular units 1st sem (without evaluations) | Feature | Integer |     | Number of curricular units without evalutions in the 1st semester |     | no  |\n",
    "| Curricular units 2nd sem (credited) | Feature | Integer |     | Number of curricular units credited in the 2nd semester |     | no  |\n",
    "| Curricular units 2nd sem (enrolled) | Feature | Integer |     | Number of curricular units enrolled in the 2nd semester |     | no  |\n",
    "| Curricular units 2nd sem (evaluations) | Feature | Integer |     | Number of evaluations to curricular units in the 2nd semester |     | no  |\n",
    "| Curricular units 2nd sem (approved) | Feature | Integer |     | Number of curricular units approved in the 2nd semester |     | no  |\n",
    "| Curricular units 2nd sem (grade) | Feature | Integer |     | Grade average in the 2nd semester (between 0 and 20) |     | no  |\n",
    "| Curricular units 2nd sem (without evaluations) | Feature | Integer |     | Number of curricular units without evalutions in the 1st semester |     | no  |\n",
    "| Unemployment rate | Feature | Continuous |     | Unemployment rate (%) |     | no  |\n",
    "| Inflation rate | Feature | Continuous |     | Inflation rate (%) |     | no  |\n",
    "| GDP | Feature | Continuous |     | GDP |     | no  |\n",
    "| Target | Target | Categorical |     | Target. The problem is formulated as a three category classification task (dropout, enrolled, and graduate) at the end of the normal duration of the course |     | no  |"
   ]
  },
  {
   "cell_type": "code",
   "execution_count": null,
   "id": "96eeddf5",
   "metadata": {},
   "outputs": [
    {
     "ename": "",
     "evalue": "",
     "output_type": "error",
     "traceback": [
      "\u001b[1;31mJupyter cannot be started. Error attempting to locate Jupyter: Running cells with 'Python 3.12.8' requires the jupyter and notebook package.\n",
      "\u001b[1;31mInstall 'jupyter and notebook' into the Python environment. \n",
      "\u001b[1;31mCommand: 'python -m pip install jupyter notebook -U\n",
      "\u001b[1;31mor\n",
      "\u001b[1;31mconda install jupyter notebook -U'\n",
      "\u001b[1;31mClick <a href='https://aka.ms/installJupyterForVSCode'>here</a> for more info."
     ]
    }
   ],
   "source": [
    "import numpy as np\n",
    "import matplotlib.pyplot as plt\n",
    "import pandas as pd\n",
    "import seaborn as sns\n",
    "import os\n",
    "\n",
    "data = pd.read_csv('data.csv', sep=';')\n",
    "\n",
    "X = data.iloc[:, :-1].values\n",
    "Y = data.iloc[:, -1].values"
   ]
  },
  {
   "cell_type": "markdown",
   "id": "349f8fab",
   "metadata": {},
   "source": [
    "\n",
    "3. Initial standard analysis with `sample`, `head`, `info`, `describe` (and `unique` values where appropriate!)"
   ]
  },
  {
   "cell_type": "code",
   "execution_count": null,
   "id": "f111fef0",
   "metadata": {},
   "outputs": [],
   "source": [
    "# Display sample of the features (X) and target (Y)\n",
    "print(\"Sample of 5 random rows from X:\")\n",
    "print(X[np.random.choice(X.shape[0], 5, replace=False)])\n",
    "\n",
    "print(\"\\nSample of 5 random rows from Y:\")\n",
    "print(Y[np.random.choice(Y.shape[0], 5, replace=False)])\n",
    "\n",
    "# Display the first few rows of X and Y\n",
    "print(\"\\nFirst 5 rows of X:\")\n",
    "print(X[:5])\n",
    "\n",
    "print(\"\\nFirst 5 rows of Y:\")\n",
    "print(Y[:5])\n",
    "\n",
    "# Display information about the features (X)\n",
    "print(\"\\nShape of X:\")\n",
    "print(X.shape)\n",
    "\n",
    "# Display unique values for the target (Y)\n",
    "print(\"\\nUnique values in Y:\")\n",
    "print(np.unique(Y, return_counts=True))"
   ]
  },
  {
   "cell_type": "markdown",
   "id": "41dc69a3",
   "metadata": {},
   "source": [
    "## 3. Data Visualization\n",
    "1. 4 different types of plots (correlation, histograms, etc.) including discussion\n",
    "2. Data imbalance discussion with graphic"
   ]
  },
  {
   "cell_type": "markdown",
   "id": "401b45c6",
   "metadata": {},
   "source": [
    "## 4. Data Cleaning (if necessary, otherwise leave empty but justified)\n",
    "1. Incorrect values\n",
    "2. Missing values\n",
    "3. Justified feature reduction or type conversion\n",
    "4. Save the - if necessary - merged and integrated files from various sources into `korr.csv`"
   ]
  },
  {
   "cell_type": "markdown",
   "id": "98d91341",
   "metadata": {},
   "source": [
    "## 5. Data Preparation\n",
    "1. Different pipelines per algorithm (SVM, DT, RF, kNN, Logistic Regression) including splitting into train-validation sets with stratification"
   ]
  },
  {
   "cell_type": "markdown",
   "id": "aecfb597",
   "metadata": {},
   "source": [
    "## 6. Comparison of Classification Algorithms\n",
    "1. Hyperparameter optimization using GridSearch per algorithm with `cv=5` including time measurement (total time per algorithm must be < 15 min)\n",
    "2. Discussion of the optimized final models\n",
    "   1. Show decision surface – see [Data Science Crash Course - Chapter 7](https://data-science-crashkurs.de/chapters/kapitel_07.html#id2)\n",
    "   2. Performance comparison table using Accuracy, F1, Precision, Recall, MCC on validation data\n",
    "   3. If only 2 classes, then also include Confusion Matrix with discussion"
   ]
  }
 ],
 "metadata": {
  "kernelspec": {
   "display_name": "Python 3",
   "language": "python",
   "name": "python3"
  },
  "language_info": {
   "codemirror_mode": {
    "name": "ipython",
    "version": 3
   },
   "file_extension": ".py",
   "mimetype": "text/x-python",
   "name": "python",
   "nbconvert_exporter": "python",
   "pygments_lexer": "ipython3",
   "version": "3.12.8"
  }
 },
 "nbformat": 4,
 "nbformat_minor": 5
}
